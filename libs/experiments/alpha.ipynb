{
 "cells": [
  {
   "cell_type": "code",
   "execution_count": 1,
   "metadata": {},
   "outputs": [
    {
     "name": "stderr",
     "output_type": "stream",
     "text": [
      "Using TensorFlow backend.\n",
      "d:\\repos\\akhil\\colorizer\\venv\\lib\\site-packages\\tensorflow\\python\\framework\\dtypes.py:493: FutureWarning: Passing (type, 1) or '1type' as a synonym of type is deprecated; in a future version of numpy, it will be understood as (type, (1,)) / '(1,)type'.\n",
      "  _np_qint8 = np.dtype([(\"qint8\", np.int8, 1)])\n",
      "d:\\repos\\akhil\\colorizer\\venv\\lib\\site-packages\\tensorflow\\python\\framework\\dtypes.py:494: FutureWarning: Passing (type, 1) or '1type' as a synonym of type is deprecated; in a future version of numpy, it will be understood as (type, (1,)) / '(1,)type'.\n",
      "  _np_quint8 = np.dtype([(\"quint8\", np.uint8, 1)])\n",
      "d:\\repos\\akhil\\colorizer\\venv\\lib\\site-packages\\tensorflow\\python\\framework\\dtypes.py:495: FutureWarning: Passing (type, 1) or '1type' as a synonym of type is deprecated; in a future version of numpy, it will be understood as (type, (1,)) / '(1,)type'.\n",
      "  _np_qint16 = np.dtype([(\"qint16\", np.int16, 1)])\n",
      "d:\\repos\\akhil\\colorizer\\venv\\lib\\site-packages\\tensorflow\\python\\framework\\dtypes.py:496: FutureWarning: Passing (type, 1) or '1type' as a synonym of type is deprecated; in a future version of numpy, it will be understood as (type, (1,)) / '(1,)type'.\n",
      "  _np_quint16 = np.dtype([(\"quint16\", np.uint16, 1)])\n",
      "d:\\repos\\akhil\\colorizer\\venv\\lib\\site-packages\\tensorflow\\python\\framework\\dtypes.py:497: FutureWarning: Passing (type, 1) or '1type' as a synonym of type is deprecated; in a future version of numpy, it will be understood as (type, (1,)) / '(1,)type'.\n",
      "  _np_qint32 = np.dtype([(\"qint32\", np.int32, 1)])\n",
      "d:\\repos\\akhil\\colorizer\\venv\\lib\\site-packages\\tensorflow\\python\\framework\\dtypes.py:502: FutureWarning: Passing (type, 1) or '1type' as a synonym of type is deprecated; in a future version of numpy, it will be understood as (type, (1,)) / '(1,)type'.\n",
      "  np_resource = np.dtype([(\"resource\", np.ubyte, 1)])\n"
     ]
    }
   ],
   "source": [
    "from keras.layers import Conv2D, UpSampling2D, InputLayer, Conv2DTranspose\n",
    "from keras.layers import Activation, Dense, Dropout, Flatten\n",
    "from keras.layers.normalization import BatchNormalization\n",
    "from keras.models import Sequential\n",
    "from keras.preprocessing.image import ImageDataGenerator, array_to_img, img_to_array, load_img\n",
    "from skimage.color import rgb2lab, lab2rgb, rgb2gray, xyz2lab\n",
    "from skimage.io import imsave\n",
    "import numpy as np\n",
    "import os\n",
    "import random\n",
    "import tensorflow as tf"
   ]
  },
  {
   "cell_type": "code",
   "execution_count": 2,
   "metadata": {},
   "outputs": [],
   "source": [
    "# Get images\n",
    "file_names = [f'data/train/face_{i}.jpg'for i in range(1, 6)]\n",
    "images = [img_to_array(load_img(file_name)) for file_name in file_names]\n",
    "images = np.array(images, dtype=float)"
   ]
  },
  {
   "cell_type": "code",
   "execution_count": 3,
   "metadata": {},
   "outputs": [
    {
     "data": {
      "text/plain": [
       "(5, 224, 224, 3)"
      ]
     },
     "execution_count": 3,
     "metadata": {},
     "output_type": "execute_result"
    }
   ],
   "source": [
    "lab_images = rgb2lab(1.0/255 * images)\n",
    "lab_images.shape"
   ]
  },
  {
   "cell_type": "code",
   "execution_count": 4,
   "metadata": {},
   "outputs": [
    {
     "data": {
      "text/plain": [
       "(5, 224, 224, 1)"
      ]
     },
     "execution_count": 4,
     "metadata": {},
     "output_type": "execute_result"
    }
   ],
   "source": [
    "X = lab_images[:, :, :, 0]\n",
    "X /= 100\n",
    "X = X.reshape(len(images), 224, 224, 1,)\n",
    "X.shape"
   ]
  },
  {
   "cell_type": "code",
   "execution_count": 5,
   "metadata": {},
   "outputs": [
    {
     "data": {
      "text/plain": [
       "(5, 224, 224, 2)"
      ]
     },
     "execution_count": 5,
     "metadata": {},
     "output_type": "execute_result"
    }
   ],
   "source": [
    "Y = lab_images[:, :, :, 1:]\n",
    "Y /= 128\n",
    "Y.shape"
   ]
  },
  {
   "cell_type": "code",
   "execution_count": 6,
   "metadata": {},
   "outputs": [],
   "source": [
    "test_file_names = [f'data/test/face_{i}.jpg'for i in range(1, 4)]\n",
    "test_images = [img_to_array(load_img(file_name)) for file_name in test_file_names]\n",
    "test_images = np.array(test_images, dtype=float)\n",
    "\n",
    "test_lab_images = rgb2lab(1.0/255 * test_images)\n",
    "test_X = (test_lab_images[:, :, :, 0] / 100).reshape(len(test_images), 224, 224, 1,)\n",
    "test_Y = (test_lab_images[:, :, :, 1:] / 128)"
   ]
  },
  {
   "cell_type": "code",
   "execution_count": 72,
   "metadata": {},
   "outputs": [],
   "source": [
    "test_file_names = [f'data/test/img_{i}.jpg'for i in range(1, 3)]\n",
    "test_images = [img_to_array(load_img(file_name)) for file_name in test_file_names]\n",
    "test_images = np.array(test_images, dtype=float)\n",
    "\n",
    "test_lab_images = rgb2lab(1.0/255 * test_images)\n",
    "test_X = (test_lab_images[:, :, :, 0] / 100).reshape(len(test_images), 224, 224, 1,)\n",
    "test_Y = (test_lab_images[:, :, :, 1:] / 128)"
   ]
  },
  {
   "cell_type": "code",
   "execution_count": 62,
   "metadata": {},
   "outputs": [],
   "source": [
    "model = Sequential()\n",
    "model.add(InputLayer(input_shape=(None, None, 1)))\n",
    "model.add(Conv2D(8, (3, 3), activation='relu', padding='same', strides=1))\n",
    "model.add(Conv2D(8, (3, 3), activation='relu', padding='same', strides=1))\n",
    "model.add(Conv2D(16, (3, 3), activation='relu', padding='same', strides=1))\n",
    "model.add(Conv2D(16, (3, 3), activation='relu', padding='same', strides=1))\n",
    "model.add(Conv2D(32, (3, 3), activation='relu', padding='same', strides=1))\n",
    "model.add(Conv2D(32, (3, 3), activation='relu', padding='same', strides=1))\n",
    "model.add(Conv2D(32, (3, 3), activation='relu', padding='same'))\n",
    "model.add(Conv2D(16, (3, 3), activation='relu', padding='same'))\n",
    "model.add(Conv2D(2, (3, 3), activation='tanh', padding='same'))"
   ]
  },
  {
   "cell_type": "code",
   "execution_count": 40,
   "metadata": {},
   "outputs": [],
   "source": [
    "model = Sequential()\n",
    "model.add(InputLayer(input_shape=(None, None, 1)))\n",
    "model.add(Conv2D(8, (3, 3), activation='relu', padding='same', strides=2))\n",
    "model.add(Conv2D(8, (3, 3), activation='relu', padding='same'))\n",
    "model.add(Conv2D(16, (3, 3), activation='relu', padding='same'))\n",
    "model.add(Conv2D(16, (3, 3), activation='relu', padding='same', strides=2))\n",
    "model.add(Conv2D(32, (3, 3), activation='relu', padding='same'))\n",
    "model.add(Conv2D(32, (3, 3), activation='relu', padding='same', strides=2))\n",
    "model.add(UpSampling2D((2, 2)))\n",
    "model.add(Conv2D(32, (3, 3), activation='relu', padding='same'))\n",
    "model.add(UpSampling2D((2, 2)))\n",
    "model.add(Conv2D(16, (3, 3), activation='relu', padding='same'))\n",
    "model.add(UpSampling2D((2, 2)))\n",
    "model.add(Conv2D(2, (3, 3), activation='tanh', padding='same'))"
   ]
  },
  {
   "cell_type": "code",
   "execution_count": 63,
   "metadata": {},
   "outputs": [],
   "source": [
    "model.compile(optimizer='rmsprop', loss='mse')"
   ]
  },
  {
   "cell_type": "code",
   "execution_count": 64,
   "metadata": {},
   "outputs": [
    {
     "name": "stdout",
     "output_type": "stream",
     "text": [
      "Epoch 1/200\n",
      "5/5 [==============================] - 2s 488ms/step - loss: 0.0059\n",
      "Epoch 2/200\n",
      "5/5 [==============================] - 2s 400ms/step - loss: 0.0048\n",
      "Epoch 3/200\n",
      "5/5 [==============================] - 2s 412ms/step - loss: 0.0049\n",
      "Epoch 4/200\n",
      "5/5 [==============================] - 2s 412ms/step - loss: 0.0046\n",
      "Epoch 5/200\n",
      "5/5 [==============================] - 2s 440ms/step - loss: 0.0046\n",
      "Epoch 6/200\n",
      "5/5 [==============================] - 2s 443ms/step - loss: 0.0044\n",
      "Epoch 7/200\n",
      "5/5 [==============================] - 2s 426ms/step - loss: 0.0046\n",
      "Epoch 8/200\n",
      "5/5 [==============================] - 2s 456ms/step - loss: 0.0045\n",
      "Epoch 9/200\n",
      "5/5 [==============================] - 2s 483ms/step - loss: 0.0045\n",
      "Epoch 10/200\n",
      "5/5 [==============================] - 2s 474ms/step - loss: 0.0046\n",
      "Epoch 11/200\n",
      "5/5 [==============================] - 2s 449ms/step - loss: 0.0045\n",
      "Epoch 12/200\n",
      "5/5 [==============================] - 2s 431ms/step - loss: 0.0045\n",
      "Epoch 13/200\n",
      "5/5 [==============================] - 2s 434ms/step - loss: 0.0043\n",
      "Epoch 14/200\n",
      "5/5 [==============================] - 2s 427ms/step - loss: 0.0045\n",
      "Epoch 15/200\n",
      "5/5 [==============================] - 2s 431ms/step - loss: 0.0044\n",
      "Epoch 16/200\n",
      "5/5 [==============================] - 2s 429ms/step - loss: 0.0045\n",
      "Epoch 17/200\n",
      "5/5 [==============================] - 2s 432ms/step - loss: 0.0045\n",
      "Epoch 18/200\n",
      "5/5 [==============================] - 2s 436ms/step - loss: 0.0044\n",
      "Epoch 19/200\n",
      "5/5 [==============================] - 2s 426ms/step - loss: 0.0046\n",
      "Epoch 20/200\n",
      "5/5 [==============================] - 2s 426ms/step - loss: 0.0044\n",
      "Epoch 21/200\n",
      "5/5 [==============================] - 3s 506ms/step - loss: 0.0044\n",
      "Epoch 22/200\n",
      "5/5 [==============================] - 3s 547ms/step - loss: 0.0043\n",
      "Epoch 23/200\n",
      "5/5 [==============================] - 2s 463ms/step - loss: 0.0045\n",
      "Epoch 24/200\n",
      "5/5 [==============================] - 2s 443ms/step - loss: 0.0043\n",
      "Epoch 25/200\n",
      "5/5 [==============================] - 2s 475ms/step - loss: 0.0042\n",
      "Epoch 26/200\n",
      "5/5 [==============================] - 2s 457ms/step - loss: 0.0040\n",
      "Epoch 27/200\n",
      "5/5 [==============================] - 2s 487ms/step - loss: 0.0041\n",
      "Epoch 28/200\n",
      "5/5 [==============================] - 2s 480ms/step - loss: 0.0040\n",
      "Epoch 29/200\n",
      "5/5 [==============================] - 3s 502ms/step - loss: 0.0038\n",
      "Epoch 30/200\n",
      "5/5 [==============================] - 3s 533ms/step - loss: 0.0044\n",
      "Epoch 31/200\n",
      "5/5 [==============================] - 2s 489ms/step - loss: 0.0037\n",
      "Epoch 32/200\n",
      "5/5 [==============================] - 2s 460ms/step - loss: 0.0036\n",
      "Epoch 33/200\n",
      "5/5 [==============================] - 2s 460ms/step - loss: 0.0036\n",
      "Epoch 34/200\n",
      "5/5 [==============================] - 2s 435ms/step - loss: 0.0040\n",
      "Epoch 35/200\n",
      "5/5 [==============================] - 2s 434ms/step - loss: 0.0038\n",
      "Epoch 36/200\n",
      "5/5 [==============================] - 2s 444ms/step - loss: 0.0037\n",
      "Epoch 37/200\n",
      "5/5 [==============================] - 2s 450ms/step - loss: 0.0038\n",
      "Epoch 38/200\n",
      "5/5 [==============================] - 2s 476ms/step - loss: 0.0038\n",
      "Epoch 39/200\n",
      "5/5 [==============================] - 2s 480ms/step - loss: 0.0036\n",
      "Epoch 40/200\n",
      "5/5 [==============================] - 2s 499ms/step - loss: 0.0037\n",
      "Epoch 41/200\n",
      "5/5 [==============================] - 3s 516ms/step - loss: 0.0035\n",
      "Epoch 42/200\n",
      "5/5 [==============================] - 3s 512ms/step - loss: 0.0033\n",
      "Epoch 43/200\n",
      "5/5 [==============================] - 2s 480ms/step - loss: 0.0038\n",
      "Epoch 44/200\n",
      "5/5 [==============================] - 3s 519ms/step - loss: 0.0035\n",
      "Epoch 45/200\n",
      "5/5 [==============================] - 3s 587ms/step - loss: 0.0037\n",
      "Epoch 46/200\n",
      "5/5 [==============================] - 3s 520ms/step - loss: 0.0037\n",
      "Epoch 47/200\n",
      "5/5 [==============================] - 3s 506ms/step - loss: 0.0035\n",
      "Epoch 48/200\n",
      "5/5 [==============================] - 3s 510ms/step - loss: 0.0037\n",
      "Epoch 49/200\n",
      "5/5 [==============================] - 3s 510ms/step - loss: 0.0034\n",
      "Epoch 50/200\n",
      "5/5 [==============================] - 3s 525ms/step - loss: 0.0034\n",
      "Epoch 51/200\n",
      "5/5 [==============================] - 3s 631ms/step - loss: 0.0035\n",
      "Epoch 52/200\n",
      "5/5 [==============================] - 3s 591ms/step - loss: 0.0032\n",
      "Epoch 53/200\n",
      "5/5 [==============================] - 4s 705ms/step - loss: 0.0037\n",
      "Epoch 54/200\n",
      "5/5 [==============================] - 3s 585ms/step - loss: 0.0035\n",
      "Epoch 55/200\n",
      "5/5 [==============================] - 3s 560ms/step - loss: 0.0035\n",
      "Epoch 56/200\n",
      "5/5 [==============================] - 3s 559ms/step - loss: 0.0034\n",
      "Epoch 57/200\n",
      "5/5 [==============================] - 3s 599ms/step - loss: 0.0037\n",
      "Epoch 58/200\n",
      "5/5 [==============================] - 3s 590ms/step - loss: 0.0036\n",
      "Epoch 59/200\n",
      "5/5 [==============================] - 3s 539ms/step - loss: 0.0035\n",
      "Epoch 60/200\n",
      "5/5 [==============================] - 3s 612ms/step - loss: 0.0031\n",
      "Epoch 61/200\n",
      "5/5 [==============================] - 3s 588ms/step - loss: 0.0029\n",
      "Epoch 62/200\n",
      "5/5 [==============================] - 3s 612ms/step - loss: 0.0037\n",
      "Epoch 63/200\n",
      "5/5 [==============================] - 3s 584ms/step - loss: 0.0036\n",
      "Epoch 64/200\n",
      "5/5 [==============================] - 3s 607ms/step - loss: 0.0032\n",
      "Epoch 65/200\n",
      "5/5 [==============================] - 3s 624ms/step - loss: 0.0033\n",
      "Epoch 66/200\n",
      "5/5 [==============================] - 3s 639ms/step - loss: 0.0036\n",
      "Epoch 67/200\n",
      "5/5 [==============================] - 3s 641ms/step - loss: 0.0035\n",
      "Epoch 68/200\n",
      "5/5 [==============================] - 3s 631ms/step - loss: 0.0032\n",
      "Epoch 69/200\n",
      "5/5 [==============================] - 3s 632ms/step - loss: 0.0036\n",
      "Epoch 70/200\n",
      "5/5 [==============================] - 3s 635ms/step - loss: 0.0032\n",
      "Epoch 71/200\n",
      "5/5 [==============================] - 3s 642ms/step - loss: 0.0033\n",
      "Epoch 72/200\n",
      "5/5 [==============================] - 3s 640ms/step - loss: 0.0034\n",
      "Epoch 73/200\n",
      "5/5 [==============================] - 3s 658ms/step - loss: 0.0032\n",
      "Epoch 74/200\n",
      "5/5 [==============================] - 4s 709ms/step - loss: 0.0031\n",
      "Epoch 75/200\n",
      "5/5 [==============================] - 3s 643ms/step - loss: 0.0036\n",
      "Epoch 76/200\n",
      "5/5 [==============================] - 4s 721ms/step - loss: 0.0032\n",
      "Epoch 77/200\n",
      "5/5 [==============================] - 3s 578ms/step - loss: 0.0033\n",
      "Epoch 78/200\n",
      "5/5 [==============================] - 3s 690ms/step - loss: 0.0031\n",
      "Epoch 79/200\n",
      "5/5 [==============================] - 3s 632ms/step - loss: 0.0035\n",
      "Epoch 80/200\n",
      "5/5 [==============================] - 3s 628ms/step - loss: 0.0032\n",
      "Epoch 81/200\n",
      "5/5 [==============================] - 3s 640ms/step - loss: 0.0035\n",
      "Epoch 82/200\n",
      "5/5 [==============================] - 3s 596ms/step - loss: 0.0031\n",
      "Epoch 83/200\n",
      "5/5 [==============================] - 3s 645ms/step - loss: 0.0033\n",
      "Epoch 84/200\n",
      "5/5 [==============================] - 3s 642ms/step - loss: 0.0031\n",
      "Epoch 85/200\n",
      "5/5 [==============================] - 3s 593ms/step - loss: 0.0033\n",
      "Epoch 86/200\n",
      "5/5 [==============================] - 3s 625ms/step - loss: 0.0033\n",
      "Epoch 87/200\n",
      "5/5 [==============================] - 4s 701ms/step - loss: 0.0031\n",
      "Epoch 88/200\n",
      "5/5 [==============================] - 3s 634ms/step - loss: 0.0033\n",
      "Epoch 89/200\n",
      "5/5 [==============================] - 3s 577ms/step - loss: 0.0031\n",
      "Epoch 90/200\n",
      "5/5 [==============================] - 3s 654ms/step - loss: 0.0029\n",
      "Epoch 91/200\n",
      "5/5 [==============================] - 3s 615ms/step - loss: 0.0033\n",
      "Epoch 92/200\n",
      "5/5 [==============================] - 3s 675ms/step - loss: 0.0029\n",
      "Epoch 93/200\n",
      "5/5 [==============================] - 3s 600ms/step - loss: 0.0035\n",
      "Epoch 94/200\n",
      "5/5 [==============================] - 3s 620ms/step - loss: 0.0031\n",
      "Epoch 95/200\n",
      "5/5 [==============================] - 3s 672ms/step - loss: 0.0029\n",
      "Epoch 96/200\n",
      "5/5 [==============================] - 3s 622ms/step - loss: 0.0034\n",
      "Epoch 97/200\n",
      "5/5 [==============================] - 4s 718ms/step - loss: 0.0032\n",
      "Epoch 98/200\n",
      "5/5 [==============================] - 3s 630ms/step - loss: 0.0030\n",
      "Epoch 99/200\n",
      "5/5 [==============================] - 3s 564ms/step - loss: 0.0033\n",
      "Epoch 100/200\n",
      "5/5 [==============================] - 3s 602ms/step - loss: 0.0032\n",
      "Epoch 101/200\n",
      "5/5 [==============================] - 3s 581ms/step - loss: 0.0028\n",
      "Epoch 102/200\n"
     ]
    },
    {
     "name": "stdout",
     "output_type": "stream",
     "text": [
      "5/5 [==============================] - 3s 591ms/step - loss: 0.0029\n",
      "Epoch 103/200\n",
      "5/5 [==============================] - 3s 573ms/step - loss: 0.0033\n",
      "Epoch 104/200\n",
      "5/5 [==============================] - 3s 606ms/step - loss: 0.0032\n",
      "Epoch 105/200\n",
      "5/5 [==============================] - 3s 551ms/step - loss: 0.0031\n",
      "Epoch 106/200\n",
      "5/5 [==============================] - 3s 586ms/step - loss: 0.0031\n",
      "Epoch 107/200\n",
      "5/5 [==============================] - 3s 593ms/step - loss: 0.0030\n",
      "Epoch 108/200\n",
      "5/5 [==============================] - 3s 591ms/step - loss: 0.0032\n",
      "Epoch 109/200\n",
      "5/5 [==============================] - 3s 592ms/step - loss: 0.0031\n",
      "Epoch 110/200\n",
      "5/5 [==============================] - 3s 569ms/step - loss: 0.0031\n",
      "Epoch 111/200\n",
      "5/5 [==============================] - 3s 591ms/step - loss: 0.0029\n",
      "Epoch 112/200\n",
      "5/5 [==============================] - 3s 618ms/step - loss: 0.0033\n",
      "Epoch 113/200\n",
      "5/5 [==============================] - 3s 602ms/step - loss: 0.0030\n",
      "Epoch 114/200\n",
      "5/5 [==============================] - 3s 601ms/step - loss: 0.0032\n",
      "Epoch 115/200\n",
      "5/5 [==============================] - 3s 609ms/step - loss: 0.0029\n",
      "Epoch 116/200\n",
      "5/5 [==============================] - 3s 608ms/step - loss: 0.0032\n",
      "Epoch 117/200\n",
      "5/5 [==============================] - 3s 575ms/step - loss: 0.0027\n",
      "Epoch 118/200\n",
      "5/5 [==============================] - 3s 550ms/step - loss: 0.0032\n",
      "Epoch 119/200\n",
      "5/5 [==============================] - 3s 626ms/step - loss: 0.0028\n",
      "Epoch 120/200\n",
      "5/5 [==============================] - 3s 637ms/step - loss: 0.0033\n",
      "Epoch 121/200\n",
      "5/5 [==============================] - 3s 605ms/step - loss: 0.0030\n",
      "Epoch 122/200\n",
      "5/5 [==============================] - 3s 563ms/step - loss: 0.0028\n",
      "Epoch 123/200\n",
      "5/5 [==============================] - 3s 614ms/step - loss: 0.0031\n",
      "Epoch 124/200\n",
      "5/5 [==============================] - 3s 597ms/step - loss: 0.0029\n",
      "Epoch 125/200\n",
      "5/5 [==============================] - 3s 554ms/step - loss: 0.0031\n",
      "Epoch 126/200\n",
      "5/5 [==============================] - 3s 644ms/step - loss: 0.0031\n",
      "Epoch 127/200\n",
      "5/5 [==============================] - 3s 615ms/step - loss: 0.0028\n",
      "Epoch 128/200\n",
      "5/5 [==============================] - 3s 582ms/step - loss: 0.0028\n",
      "Epoch 129/200\n",
      "5/5 [==============================] - 3s 653ms/step - loss: 0.0030\n",
      "Epoch 130/200\n",
      "5/5 [==============================] - 3s 604ms/step - loss: 0.0030\n",
      "Epoch 131/200\n",
      "5/5 [==============================] - 3s 582ms/step - loss: 0.0030\n",
      "Epoch 132/200\n",
      "5/5 [==============================] - 3s 655ms/step - loss: 0.0031\n",
      "Epoch 133/200\n",
      "5/5 [==============================] - 3s 606ms/step - loss: 0.0030\n",
      "Epoch 134/200\n",
      "5/5 [==============================] - 3s 571ms/step - loss: 0.0031\n",
      "Epoch 135/200\n",
      "5/5 [==============================] - 3s 593ms/step - loss: 0.0027\n",
      "Epoch 136/200\n",
      "5/5 [==============================] - 3s 594ms/step - loss: 0.0030\n",
      "Epoch 137/200\n",
      "5/5 [==============================] - 3s 555ms/step - loss: 0.0031\n",
      "Epoch 138/200\n",
      "5/5 [==============================] - 3s 536ms/step - loss: 0.0029\n",
      "Epoch 139/200\n",
      "5/5 [==============================] - 3s 546ms/step - loss: 0.0028\n",
      "Epoch 140/200\n",
      "5/5 [==============================] - 3s 579ms/step - loss: 0.0029\n",
      "Epoch 141/200\n",
      "5/5 [==============================] - 3s 624ms/step - loss: 0.0027\n",
      "Epoch 142/200\n",
      "5/5 [==============================] - 3s 603ms/step - loss: 0.0026\n",
      "Epoch 143/200\n",
      "5/5 [==============================] - 3s 633ms/step - loss: 0.0031\n",
      "Epoch 144/200\n",
      "5/5 [==============================] - 3s 629ms/step - loss: 0.0029\n",
      "Epoch 145/200\n",
      "5/5 [==============================] - 3s 653ms/step - loss: 0.0029\n",
      "Epoch 146/200\n",
      "5/5 [==============================] - 3s 630ms/step - loss: 0.0028\n",
      "Epoch 147/200\n",
      "5/5 [==============================] - 3s 550ms/step - loss: 0.0028\n",
      "Epoch 148/200\n",
      "5/5 [==============================] - 3s 553ms/step - loss: 0.0029\n",
      "Epoch 149/200\n",
      "5/5 [==============================] - 3s 557ms/step - loss: 0.0029\n",
      "Epoch 150/200\n",
      "5/5 [==============================] - 3s 625ms/step - loss: 0.0029\n",
      "Epoch 151/200\n",
      "5/5 [==============================] - 3s 685ms/step - loss: 0.0028\n",
      "Epoch 152/200\n",
      "5/5 [==============================] - 3s 688ms/step - loss: 0.0025\n",
      "Epoch 153/200\n",
      "5/5 [==============================] - 3s 673ms/step - loss: 0.0030\n",
      "Epoch 154/200\n",
      "5/5 [==============================] - 3s 544ms/step - loss: 0.0029\n",
      "Epoch 155/200\n",
      "5/5 [==============================] - 3s 536ms/step - loss: 0.0028\n",
      "Epoch 156/200\n",
      "5/5 [==============================] - 3s 654ms/step - loss: 0.0029\n",
      "Epoch 157/200\n",
      "5/5 [==============================] - 4s 706ms/step - loss: 0.0027\n",
      "Epoch 158/200\n",
      "5/5 [==============================] - 3s 671ms/step - loss: 0.0030\n",
      "Epoch 159/200\n",
      "5/5 [==============================] - 4s 768ms/step - loss: 0.0029\n",
      "Epoch 160/200\n",
      "5/5 [==============================] - 4s 740ms/step - loss: 0.0028\n",
      "Epoch 161/200\n",
      "5/5 [==============================] - 4s 762ms/step - loss: 0.0029\n",
      "Epoch 162/200\n",
      "5/5 [==============================] - 4s 707ms/step - loss: 0.0026\n",
      "Epoch 163/200\n",
      "5/5 [==============================] - 4s 803ms/step - loss: 0.0030\n",
      "Epoch 164/200\n",
      "5/5 [==============================] - 4s 839ms/step - loss: 0.0028\n",
      "Epoch 165/200\n",
      "5/5 [==============================] - 4s 738ms/step - loss: 0.0027\n",
      "Epoch 166/200\n",
      "5/5 [==============================] - 4s 725ms/step - loss: 0.0027\n",
      "Epoch 167/200\n",
      "5/5 [==============================] - 4s 726ms/step - loss: 0.0027\n",
      "Epoch 168/200\n",
      "5/5 [==============================] - 4s 738ms/step - loss: 0.0026\n",
      "Epoch 169/200\n",
      "5/5 [==============================] - 4s 767ms/step - loss: 0.0025\n",
      "Epoch 170/200\n",
      "5/5 [==============================] - 4s 726ms/step - loss: 0.0028\n",
      "Epoch 171/200\n",
      "5/5 [==============================] - 4s 731ms/step - loss: 0.0027\n",
      "Epoch 172/200\n",
      "5/5 [==============================] - 4s 733ms/step - loss: 0.0029\n",
      "Epoch 173/200\n",
      "5/5 [==============================] - 4s 731ms/step - loss: 0.0029\n",
      "Epoch 174/200\n",
      "5/5 [==============================] - 4s 715ms/step - loss: 0.0027\n",
      "Epoch 175/200\n",
      "5/5 [==============================] - 4s 728ms/step - loss: 0.0027\n",
      "Epoch 176/200\n",
      "5/5 [==============================] - 4s 749ms/step - loss: 0.0030\n",
      "Epoch 177/200\n",
      "5/5 [==============================] - 4s 742ms/step - loss: 0.0028\n",
      "Epoch 178/200\n",
      "5/5 [==============================] - 4s 753ms/step - loss: 0.0029\n",
      "Epoch 179/200\n",
      "5/5 [==============================] - 4s 767ms/step - loss: 0.0027\n",
      "Epoch 180/200\n",
      "5/5 [==============================] - 4s 726ms/step - loss: 0.0029\n",
      "Epoch 181/200\n",
      "5/5 [==============================] - 4s 761ms/step - loss: 0.0026\n",
      "Epoch 182/200\n",
      "5/5 [==============================] - 4s 737ms/step - loss: 0.0028\n",
      "Epoch 183/200\n",
      "5/5 [==============================] - 4s 783ms/step - loss: 0.0026\n",
      "Epoch 184/200\n",
      "5/5 [==============================] - 4s 748ms/step - loss: 0.0026\n",
      "Epoch 185/200\n",
      "5/5 [==============================] - 4s 747ms/step - loss: 0.0029\n",
      "Epoch 186/200\n",
      "5/5 [==============================] - 4s 774ms/step - loss: 0.0027\n",
      "Epoch 187/200\n",
      "5/5 [==============================] - 4s 813ms/step - loss: 0.0026\n",
      "Epoch 188/200\n",
      "5/5 [==============================] - 4s 794ms/step - loss: 0.0029\n",
      "Epoch 189/200\n",
      "5/5 [==============================] - 4s 788ms/step - loss: 0.0028\n",
      "Epoch 190/200\n",
      "5/5 [==============================] - 4s 745ms/step - loss: 0.0025\n",
      "Epoch 191/200\n",
      "5/5 [==============================] - 3s 629ms/step - loss: 0.0023\n",
      "Epoch 192/200\n",
      "5/5 [==============================] - 3s 637ms/step - loss: 0.0026\n",
      "Epoch 193/200\n",
      "5/5 [==============================] - 3s 619ms/step - loss: 0.0030\n",
      "Epoch 194/200\n",
      "5/5 [==============================] - 3s 566ms/step - loss: 0.0028\n",
      "Epoch 195/200\n",
      "5/5 [==============================] - 3s 532ms/step - loss: 0.0027\n",
      "Epoch 196/200\n",
      "5/5 [==============================] - 3s 532ms/step - loss: 0.0026\n",
      "Epoch 197/200\n",
      "5/5 [==============================] - 3s 609ms/step - loss: 0.0028\n",
      "Epoch 198/200\n",
      "5/5 [==============================] - 3s 613ms/step - loss: 0.0027\n",
      "Epoch 199/200\n",
      "5/5 [==============================] - 3s 636ms/step - loss: 0.0026\n",
      "Epoch 200/200\n",
      "5/5 [==============================] - 3s 626ms/step - loss: 0.0026\n"
     ]
    },
    {
     "data": {
      "text/plain": [
       "<keras.callbacks.History at 0x1883ff5dac8>"
      ]
     },
     "execution_count": 64,
     "metadata": {},
     "output_type": "execute_result"
    }
   ],
   "source": [
    "model.fit(x=X, y=Y, batch_size=1, epochs=200)"
   ]
  },
  {
   "cell_type": "code",
   "execution_count": 65,
   "metadata": {},
   "outputs": [
    {
     "name": "stdout",
     "output_type": "stream",
     "text": [
      "5/5 [==============================] - 1s 167ms/step\n"
     ]
    },
    {
     "data": {
      "text/plain": [
       "0.002743919938802719"
      ]
     },
     "execution_count": 65,
     "metadata": {},
     "output_type": "execute_result"
    }
   ],
   "source": [
    "model.evaluate(X, Y, batch_size=1)"
   ]
  },
  {
   "cell_type": "code",
   "execution_count": 73,
   "metadata": {},
   "outputs": [
    {
     "name": "stdout",
     "output_type": "stream",
     "text": [
      "2/2 [==============================] - 0s 200ms/step\n"
     ]
    },
    {
     "data": {
      "text/plain": [
       "0.028678466565907"
      ]
     },
     "execution_count": 73,
     "metadata": {},
     "output_type": "execute_result"
    }
   ],
   "source": [
    "model.evaluate(test_X, test_Y, batch_size=1)"
   ]
  },
  {
   "cell_type": "code",
   "execution_count": 74,
   "metadata": {},
   "outputs": [],
   "source": [
    "pred_Y = model.predict(test_X)"
   ]
  },
  {
   "cell_type": "code",
   "execution_count": 75,
   "metadata": {},
   "outputs": [
    {
     "data": {
      "text/plain": [
       "(2, 224, 224, 3)"
      ]
     },
     "execution_count": 75,
     "metadata": {},
     "output_type": "execute_result"
    }
   ],
   "source": [
    "colorized_images = np.zeros((len(test_images), 224, 224, 3,))\n",
    "colorized_images[:, :, :, 0] = test_X[:, :, :, 0] * 128\n",
    "colorized_images[:, :, :, 1:] = pred_Y[:] * 128\n",
    "colorized_images_rgb = [lab2rgb(image) for image in colorized_images]\n",
    "colorized_images.shape"
   ]
  },
  {
   "cell_type": "code",
   "execution_count": 76,
   "metadata": {},
   "outputs": [],
   "source": [
    "for i in range(len(colorized_images_rgb)):\n",
    "    imsave(f\"results/face_{i+1}.jpg\", colorized_images_rgb[i])"
   ]
  },
  {
   "cell_type": "code",
   "execution_count": 77,
   "metadata": {},
   "outputs": [],
   "source": [
    "for i in range(len(colorized_images_rgb)):\n",
    "    imsave(f\"results/face_{i+1}_gray.jpg\", rgb2gray(colorized_images_rgb[i]))"
   ]
  },
  {
   "cell_type": "code",
   "execution_count": 61,
   "metadata": {},
   "outputs": [],
   "source": [
    "model.save('models/alpha_sq.h5')"
   ]
  },
  {
   "cell_type": "code",
   "execution_count": 71,
   "metadata": {},
   "outputs": [
    {
     "name": "stdout",
     "output_type": "stream",
     "text": [
      "WARNING:tensorflow:From d:\\repos\\akhil\\colorizer\\venv\\lib\\site-packages\\tensorflow\\python\\keras\\_impl\\keras\\backend.py:1557: calling reduce_mean (from tensorflow.python.ops.math_ops) with keep_dims is deprecated and will be removed in a future version.\n",
      "Instructions for updating:\n",
      "keep_dims is deprecated, use keepdims instead\n"
     ]
    }
   ],
   "source": [
    "new_model = tf.keras.models.load_model('models/alpha_sq.h5')"
   ]
  },
  {
   "cell_type": "code",
   "execution_count": null,
   "metadata": {},
   "outputs": [],
   "source": []
  }
 ],
 "metadata": {
  "kernelspec": {
   "display_name": "Python 3",
   "language": "python",
   "name": "python3"
  },
  "language_info": {
   "codemirror_mode": {
    "name": "ipython",
    "version": 3
   },
   "file_extension": ".py",
   "mimetype": "text/x-python",
   "name": "python",
   "nbconvert_exporter": "python",
   "pygments_lexer": "ipython3",
   "version": "3.6.8"
  }
 },
 "nbformat": 4,
 "nbformat_minor": 4
}
